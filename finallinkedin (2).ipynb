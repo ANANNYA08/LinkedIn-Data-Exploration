{
  "cells": [
    {
      "cell_type": "code",
      "execution_count": 1,
      "metadata": {
        "id": "tmqi1E84BwCG"
      },
      "outputs": [],
      "source": [
        "import numpy as np\n",
        "import pandas as pd\n",
        "import random\n",
        "import re"
      ]
    },
    {
      "cell_type": "code",
      "execution_count": 2,
      "metadata": {
        "colab": {
          "base_uri": "https://localhost:8080/",
          "height": 1000
        },
        "id": "DpYpyp0UB50C",
        "outputId": "10615b0a-e297-4457-e6e4-73d776bf995a"
      },
      "outputs": [
        {
          "output_type": "execute_result",
          "data": {
            "text/plain": [
              "          job_ID                                                job  \\\n",
              "0     3471657636  Data Analyst, Trilogy (Remote) - $60,000/year USD   \n",
              "1     3471669068  Data Analyst, Trilogy (Remote) - $60,000/year USD   \n",
              "2     3474349934                                 Data Analyst - WFH   \n",
              "3     3472816027                                       Data Analyst   \n",
              "4     3473311511                                       Data Analyst   \n",
              "...          ...                                                ...   \n",
              "7922  3472039871                                 Back End Developer   \n",
              "7923  3473194471                         Software Engineer - Senior   \n",
              "7924  3461005032                                             Vue JS   \n",
              "7925  3474305684                                      iOS Developer   \n",
              "7926  3459352801                     Power train function developer   \n",
              "\n",
              "                            location  company_id               company_name  \\\n",
              "0                Delhi, Delhi, India         NaN                  Crossover   \n",
              "1            New Delhi, Delhi, India         NaN                  Crossover   \n",
              "2             Greater Bengaluru Area         NaN                     Uplers   \n",
              "3           Gurugram, Haryana, India         NaN              PVAR SERVICES   \n",
              "4     Mohali district, Punjab, India         NaN   Timeline Freight Brokers   \n",
              "...                              ...         ...                        ...   \n",
              "7922            Kochi, Kerala, India         NaN           Orion Innovation   \n",
              "7923        Gurugram, Haryana, India         NaN                     Uplers   \n",
              "7924     Hyderabad, Telangana, India         NaN  Tata Consultancy Services   \n",
              "7925     Bengaluru, Karnataka, India         NaN                     Uplers   \n",
              "7926     Bengaluru, Karnataka, India         NaN                    Akkodis   \n",
              "\n",
              "     work_type              full_time_remote  \\\n",
              "0       Remote         Full-time ú Associate   \n",
              "1       Remote         Full-time ú Associate   \n",
              "2       Remote  Full-time ú Mid-Senior level   \n",
              "3      On-site                     Full-time   \n",
              "4      On-site                     Full-time   \n",
              "...        ...                           ...   \n",
              "7922    Hybrid         Full-time ú Associate   \n",
              "7923   On-site  Full-time ú Mid-Senior level   \n",
              "7924   On-site  Full-time ú Mid-Senior level   \n",
              "7925    Remote  Full-time ú Mid-Senior level   \n",
              "7926    Hybrid  Full-time ú Mid-Senior level   \n",
              "\n",
              "                                           no_of_employ no_of_application  \\\n",
              "0     1,001-5,000 employees ú IT Services and IT Con...               200   \n",
              "1     1,001-5,000 employees ú IT Services and IT Con...               184   \n",
              "2     1,001-5,000 employees ú IT Services and IT Con...               200   \n",
              "3                                        1-10 employees               200   \n",
              "4                                        1-10 employees                 8   \n",
              "...                                                 ...               ...   \n",
              "7922  5,001-10,000 employees ú IT Services and IT Co...                25   \n",
              "7923  1,001-5,000 employees ú IT Services and IT Con...                18   \n",
              "7924  10,001+ employees ú IT Services and IT Consulting                15   \n",
              "7925  1,001-5,000 employees ú IT Services and IT Con...                17   \n",
              "7926  10,001+ employees ú IT Services and IT Consulting                43   \n",
              "\n",
              "     posted_day_ago                 alumni           Hiring_person  \\\n",
              "0           8 hours      12 company alumni                     NaN   \n",
              "1           8 hours      12 company alumni                     NaN   \n",
              "2           9 hours       3 company alumni            Shahid Ahmad   \n",
              "3           7 hours                    NaN           Vartika Singh   \n",
              "4        26 minutes       1 company alumni  Manisha (Gisele Smith)   \n",
              "...             ...                    ...                     ...   \n",
              "7922         2 days      24 company alumni    Poornima Viswanathan   \n",
              "7923         2 days       3 company alumni           Tejveer Singh   \n",
              "7924         6 days  10,080 company alumni            ANNIE ANTONY   \n",
              "7925          1 day       3 company alumni             Arjun Jaggi   \n",
              "7926         1 week      27 company alumni                     NaN   \n",
              "\n",
              "        linkedin_followers                                 hiring_person_link  \\\n",
              "0      5,395,547 followers                                                NaN   \n",
              "1      5,395,547 followers                                                NaN   \n",
              "2                      NaN  https://www.linkedin.com/in/shahid-ahmad-a2613...   \n",
              "3          2,094 followers         https://www.linkedin.com/in/vartika-singh-   \n",
              "4                      NaN     https://www.linkedin.com/in/manisharathore0029   \n",
              "...                    ...                                                ...   \n",
              "7922                   NaN  https://www.linkedin.com/in/poornima-viswanath...   \n",
              "7923                   NaN  https://www.linkedin.com/in/tejveer-singh-a348...   \n",
              "7924  11,923,634 followers  https://www.linkedin.com/in/annie-antony-a1041...   \n",
              "7925                   NaN            https://www.linkedin.com/in/arjunjaggi7   \n",
              "7926   1,421,090 followers                                                NaN   \n",
              "\n",
              "                                            job_details  Column1  \n",
              "0     About the job Crossover is the world's #1 sour...      NaN  \n",
              "1     About the job Crossover is the world's #1 sour...      NaN  \n",
              "2     About the job Profile: ML EngineersExperience:...      NaN  \n",
              "3     About the job Designation: Data AnalystLocatio...      NaN  \n",
              "4     About the job The ideal candidate will use the...      NaN  \n",
              "...                                                 ...      ...  \n",
              "7922  About the job The ideal candidate will show in...      NaN  \n",
              "7923  About the job Experience: 4 - 8 yearsProfile: ...      NaN  \n",
              "7924  About the job Role- Vue js DeveloperExperience...      NaN  \n",
              "7925  About the job Profile: iOS DeveloperExperience...      NaN  \n",
              "7926  About the job JD Powertrain Function Developer...      NaN  \n",
              "\n",
              "[7927 rows x 16 columns]"
            ],
            "text/html": [
              "\n",
              "  <div id=\"df-4f1dde15-7fb8-4164-a2da-f9862a5326ce\" class=\"colab-df-container\">\n",
              "    <div>\n",
              "<style scoped>\n",
              "    .dataframe tbody tr th:only-of-type {\n",
              "        vertical-align: middle;\n",
              "    }\n",
              "\n",
              "    .dataframe tbody tr th {\n",
              "        vertical-align: top;\n",
              "    }\n",
              "\n",
              "    .dataframe thead th {\n",
              "        text-align: right;\n",
              "    }\n",
              "</style>\n",
              "<table border=\"1\" class=\"dataframe\">\n",
              "  <thead>\n",
              "    <tr style=\"text-align: right;\">\n",
              "      <th></th>\n",
              "      <th>job_ID</th>\n",
              "      <th>job</th>\n",
              "      <th>location</th>\n",
              "      <th>company_id</th>\n",
              "      <th>company_name</th>\n",
              "      <th>work_type</th>\n",
              "      <th>full_time_remote</th>\n",
              "      <th>no_of_employ</th>\n",
              "      <th>no_of_application</th>\n",
              "      <th>posted_day_ago</th>\n",
              "      <th>alumni</th>\n",
              "      <th>Hiring_person</th>\n",
              "      <th>linkedin_followers</th>\n",
              "      <th>hiring_person_link</th>\n",
              "      <th>job_details</th>\n",
              "      <th>Column1</th>\n",
              "    </tr>\n",
              "  </thead>\n",
              "  <tbody>\n",
              "    <tr>\n",
              "      <th>0</th>\n",
              "      <td>3471657636</td>\n",
              "      <td>Data Analyst, Trilogy (Remote) - $60,000/year USD</td>\n",
              "      <td>Delhi, Delhi, India</td>\n",
              "      <td>NaN</td>\n",
              "      <td>Crossover</td>\n",
              "      <td>Remote</td>\n",
              "      <td>Full-time ú Associate</td>\n",
              "      <td>1,001-5,000 employees ú IT Services and IT Con...</td>\n",
              "      <td>200</td>\n",
              "      <td>8 hours</td>\n",
              "      <td>12 company alumni</td>\n",
              "      <td>NaN</td>\n",
              "      <td>5,395,547 followers</td>\n",
              "      <td>NaN</td>\n",
              "      <td>About the job Crossover is the world's #1 sour...</td>\n",
              "      <td>NaN</td>\n",
              "    </tr>\n",
              "    <tr>\n",
              "      <th>1</th>\n",
              "      <td>3471669068</td>\n",
              "      <td>Data Analyst, Trilogy (Remote) - $60,000/year USD</td>\n",
              "      <td>New Delhi, Delhi, India</td>\n",
              "      <td>NaN</td>\n",
              "      <td>Crossover</td>\n",
              "      <td>Remote</td>\n",
              "      <td>Full-time ú Associate</td>\n",
              "      <td>1,001-5,000 employees ú IT Services and IT Con...</td>\n",
              "      <td>184</td>\n",
              "      <td>8 hours</td>\n",
              "      <td>12 company alumni</td>\n",
              "      <td>NaN</td>\n",
              "      <td>5,395,547 followers</td>\n",
              "      <td>NaN</td>\n",
              "      <td>About the job Crossover is the world's #1 sour...</td>\n",
              "      <td>NaN</td>\n",
              "    </tr>\n",
              "    <tr>\n",
              "      <th>2</th>\n",
              "      <td>3474349934</td>\n",
              "      <td>Data Analyst - WFH</td>\n",
              "      <td>Greater Bengaluru Area</td>\n",
              "      <td>NaN</td>\n",
              "      <td>Uplers</td>\n",
              "      <td>Remote</td>\n",
              "      <td>Full-time ú Mid-Senior level</td>\n",
              "      <td>1,001-5,000 employees ú IT Services and IT Con...</td>\n",
              "      <td>200</td>\n",
              "      <td>9 hours</td>\n",
              "      <td>3 company alumni</td>\n",
              "      <td>Shahid Ahmad</td>\n",
              "      <td>NaN</td>\n",
              "      <td>https://www.linkedin.com/in/shahid-ahmad-a2613...</td>\n",
              "      <td>About the job Profile: ML EngineersExperience:...</td>\n",
              "      <td>NaN</td>\n",
              "    </tr>\n",
              "    <tr>\n",
              "      <th>3</th>\n",
              "      <td>3472816027</td>\n",
              "      <td>Data Analyst</td>\n",
              "      <td>Gurugram, Haryana, India</td>\n",
              "      <td>NaN</td>\n",
              "      <td>PVAR SERVICES</td>\n",
              "      <td>On-site</td>\n",
              "      <td>Full-time</td>\n",
              "      <td>1-10 employees</td>\n",
              "      <td>200</td>\n",
              "      <td>7 hours</td>\n",
              "      <td>NaN</td>\n",
              "      <td>Vartika Singh</td>\n",
              "      <td>2,094 followers</td>\n",
              "      <td>https://www.linkedin.com/in/vartika-singh-</td>\n",
              "      <td>About the job Designation: Data AnalystLocatio...</td>\n",
              "      <td>NaN</td>\n",
              "    </tr>\n",
              "    <tr>\n",
              "      <th>4</th>\n",
              "      <td>3473311511</td>\n",
              "      <td>Data Analyst</td>\n",
              "      <td>Mohali district, Punjab, India</td>\n",
              "      <td>NaN</td>\n",
              "      <td>Timeline Freight Brokers</td>\n",
              "      <td>On-site</td>\n",
              "      <td>Full-time</td>\n",
              "      <td>1-10 employees</td>\n",
              "      <td>8</td>\n",
              "      <td>26 minutes</td>\n",
              "      <td>1 company alumni</td>\n",
              "      <td>Manisha (Gisele Smith)</td>\n",
              "      <td>NaN</td>\n",
              "      <td>https://www.linkedin.com/in/manisharathore0029</td>\n",
              "      <td>About the job The ideal candidate will use the...</td>\n",
              "      <td>NaN</td>\n",
              "    </tr>\n",
              "    <tr>\n",
              "      <th>...</th>\n",
              "      <td>...</td>\n",
              "      <td>...</td>\n",
              "      <td>...</td>\n",
              "      <td>...</td>\n",
              "      <td>...</td>\n",
              "      <td>...</td>\n",
              "      <td>...</td>\n",
              "      <td>...</td>\n",
              "      <td>...</td>\n",
              "      <td>...</td>\n",
              "      <td>...</td>\n",
              "      <td>...</td>\n",
              "      <td>...</td>\n",
              "      <td>...</td>\n",
              "      <td>...</td>\n",
              "      <td>...</td>\n",
              "    </tr>\n",
              "    <tr>\n",
              "      <th>7922</th>\n",
              "      <td>3472039871</td>\n",
              "      <td>Back End Developer</td>\n",
              "      <td>Kochi, Kerala, India</td>\n",
              "      <td>NaN</td>\n",
              "      <td>Orion Innovation</td>\n",
              "      <td>Hybrid</td>\n",
              "      <td>Full-time ú Associate</td>\n",
              "      <td>5,001-10,000 employees ú IT Services and IT Co...</td>\n",
              "      <td>25</td>\n",
              "      <td>2 days</td>\n",
              "      <td>24 company alumni</td>\n",
              "      <td>Poornima Viswanathan</td>\n",
              "      <td>NaN</td>\n",
              "      <td>https://www.linkedin.com/in/poornima-viswanath...</td>\n",
              "      <td>About the job The ideal candidate will show in...</td>\n",
              "      <td>NaN</td>\n",
              "    </tr>\n",
              "    <tr>\n",
              "      <th>7923</th>\n",
              "      <td>3473194471</td>\n",
              "      <td>Software Engineer - Senior</td>\n",
              "      <td>Gurugram, Haryana, India</td>\n",
              "      <td>NaN</td>\n",
              "      <td>Uplers</td>\n",
              "      <td>On-site</td>\n",
              "      <td>Full-time ú Mid-Senior level</td>\n",
              "      <td>1,001-5,000 employees ú IT Services and IT Con...</td>\n",
              "      <td>18</td>\n",
              "      <td>2 days</td>\n",
              "      <td>3 company alumni</td>\n",
              "      <td>Tejveer Singh</td>\n",
              "      <td>NaN</td>\n",
              "      <td>https://www.linkedin.com/in/tejveer-singh-a348...</td>\n",
              "      <td>About the job Experience: 4 - 8 yearsProfile: ...</td>\n",
              "      <td>NaN</td>\n",
              "    </tr>\n",
              "    <tr>\n",
              "      <th>7924</th>\n",
              "      <td>3461005032</td>\n",
              "      <td>Vue JS</td>\n",
              "      <td>Hyderabad, Telangana, India</td>\n",
              "      <td>NaN</td>\n",
              "      <td>Tata Consultancy Services</td>\n",
              "      <td>On-site</td>\n",
              "      <td>Full-time ú Mid-Senior level</td>\n",
              "      <td>10,001+ employees ú IT Services and IT Consulting</td>\n",
              "      <td>15</td>\n",
              "      <td>6 days</td>\n",
              "      <td>10,080 company alumni</td>\n",
              "      <td>ANNIE ANTONY</td>\n",
              "      <td>11,923,634 followers</td>\n",
              "      <td>https://www.linkedin.com/in/annie-antony-a1041...</td>\n",
              "      <td>About the job Role- Vue js DeveloperExperience...</td>\n",
              "      <td>NaN</td>\n",
              "    </tr>\n",
              "    <tr>\n",
              "      <th>7925</th>\n",
              "      <td>3474305684</td>\n",
              "      <td>iOS Developer</td>\n",
              "      <td>Bengaluru, Karnataka, India</td>\n",
              "      <td>NaN</td>\n",
              "      <td>Uplers</td>\n",
              "      <td>Remote</td>\n",
              "      <td>Full-time ú Mid-Senior level</td>\n",
              "      <td>1,001-5,000 employees ú IT Services and IT Con...</td>\n",
              "      <td>17</td>\n",
              "      <td>1 day</td>\n",
              "      <td>3 company alumni</td>\n",
              "      <td>Arjun Jaggi</td>\n",
              "      <td>NaN</td>\n",
              "      <td>https://www.linkedin.com/in/arjunjaggi7</td>\n",
              "      <td>About the job Profile: iOS DeveloperExperience...</td>\n",
              "      <td>NaN</td>\n",
              "    </tr>\n",
              "    <tr>\n",
              "      <th>7926</th>\n",
              "      <td>3459352801</td>\n",
              "      <td>Power train function developer</td>\n",
              "      <td>Bengaluru, Karnataka, India</td>\n",
              "      <td>NaN</td>\n",
              "      <td>Akkodis</td>\n",
              "      <td>Hybrid</td>\n",
              "      <td>Full-time ú Mid-Senior level</td>\n",
              "      <td>10,001+ employees ú IT Services and IT Consulting</td>\n",
              "      <td>43</td>\n",
              "      <td>1 week</td>\n",
              "      <td>27 company alumni</td>\n",
              "      <td>NaN</td>\n",
              "      <td>1,421,090 followers</td>\n",
              "      <td>NaN</td>\n",
              "      <td>About the job JD Powertrain Function Developer...</td>\n",
              "      <td>NaN</td>\n",
              "    </tr>\n",
              "  </tbody>\n",
              "</table>\n",
              "<p>7927 rows × 16 columns</p>\n",
              "</div>\n",
              "    <div class=\"colab-df-buttons\">\n",
              "\n",
              "  <div class=\"colab-df-container\">\n",
              "    <button class=\"colab-df-convert\" onclick=\"convertToInteractive('df-4f1dde15-7fb8-4164-a2da-f9862a5326ce')\"\n",
              "            title=\"Convert this dataframe to an interactive table.\"\n",
              "            style=\"display:none;\">\n",
              "\n",
              "  <svg xmlns=\"http://www.w3.org/2000/svg\" height=\"24px\" viewBox=\"0 -960 960 960\">\n",
              "    <path d=\"M120-120v-720h720v720H120Zm60-500h600v-160H180v160Zm220 220h160v-160H400v160Zm0 220h160v-160H400v160ZM180-400h160v-160H180v160Zm440 0h160v-160H620v160ZM180-180h160v-160H180v160Zm440 0h160v-160H620v160Z\"/>\n",
              "  </svg>\n",
              "    </button>\n",
              "\n",
              "  <style>\n",
              "    .colab-df-container {\n",
              "      display:flex;\n",
              "      gap: 12px;\n",
              "    }\n",
              "\n",
              "    .colab-df-convert {\n",
              "      background-color: #E8F0FE;\n",
              "      border: none;\n",
              "      border-radius: 50%;\n",
              "      cursor: pointer;\n",
              "      display: none;\n",
              "      fill: #1967D2;\n",
              "      height: 32px;\n",
              "      padding: 0 0 0 0;\n",
              "      width: 32px;\n",
              "    }\n",
              "\n",
              "    .colab-df-convert:hover {\n",
              "      background-color: #E2EBFA;\n",
              "      box-shadow: 0px 1px 2px rgba(60, 64, 67, 0.3), 0px 1px 3px 1px rgba(60, 64, 67, 0.15);\n",
              "      fill: #174EA6;\n",
              "    }\n",
              "\n",
              "    .colab-df-buttons div {\n",
              "      margin-bottom: 4px;\n",
              "    }\n",
              "\n",
              "    [theme=dark] .colab-df-convert {\n",
              "      background-color: #3B4455;\n",
              "      fill: #D2E3FC;\n",
              "    }\n",
              "\n",
              "    [theme=dark] .colab-df-convert:hover {\n",
              "      background-color: #434B5C;\n",
              "      box-shadow: 0px 1px 3px 1px rgba(0, 0, 0, 0.15);\n",
              "      filter: drop-shadow(0px 1px 2px rgba(0, 0, 0, 0.3));\n",
              "      fill: #FFFFFF;\n",
              "    }\n",
              "  </style>\n",
              "\n",
              "    <script>\n",
              "      const buttonEl =\n",
              "        document.querySelector('#df-4f1dde15-7fb8-4164-a2da-f9862a5326ce button.colab-df-convert');\n",
              "      buttonEl.style.display =\n",
              "        google.colab.kernel.accessAllowed ? 'block' : 'none';\n",
              "\n",
              "      async function convertToInteractive(key) {\n",
              "        const element = document.querySelector('#df-4f1dde15-7fb8-4164-a2da-f9862a5326ce');\n",
              "        const dataTable =\n",
              "          await google.colab.kernel.invokeFunction('convertToInteractive',\n",
              "                                                    [key], {});\n",
              "        if (!dataTable) return;\n",
              "\n",
              "        const docLinkHtml = 'Like what you see? Visit the ' +\n",
              "          '<a target=\"_blank\" href=https://colab.research.google.com/notebooks/data_table.ipynb>data table notebook</a>'\n",
              "          + ' to learn more about interactive tables.';\n",
              "        element.innerHTML = '';\n",
              "        dataTable['output_type'] = 'display_data';\n",
              "        await google.colab.output.renderOutput(dataTable, element);\n",
              "        const docLink = document.createElement('div');\n",
              "        docLink.innerHTML = docLinkHtml;\n",
              "        element.appendChild(docLink);\n",
              "      }\n",
              "    </script>\n",
              "  </div>\n",
              "\n",
              "\n",
              "<div id=\"df-46283f95-11c5-4288-aaa2-04126d122d1f\">\n",
              "  <button class=\"colab-df-quickchart\" onclick=\"quickchart('df-46283f95-11c5-4288-aaa2-04126d122d1f')\"\n",
              "            title=\"Suggest charts.\"\n",
              "            style=\"display:none;\">\n",
              "\n",
              "<svg xmlns=\"http://www.w3.org/2000/svg\" height=\"24px\"viewBox=\"0 0 24 24\"\n",
              "     width=\"24px\">\n",
              "    <g>\n",
              "        <path d=\"M19 3H5c-1.1 0-2 .9-2 2v14c0 1.1.9 2 2 2h14c1.1 0 2-.9 2-2V5c0-1.1-.9-2-2-2zM9 17H7v-7h2v7zm4 0h-2V7h2v10zm4 0h-2v-4h2v4z\"/>\n",
              "    </g>\n",
              "</svg>\n",
              "  </button>\n",
              "\n",
              "<style>\n",
              "  .colab-df-quickchart {\n",
              "      --bg-color: #E8F0FE;\n",
              "      --fill-color: #1967D2;\n",
              "      --hover-bg-color: #E2EBFA;\n",
              "      --hover-fill-color: #174EA6;\n",
              "      --disabled-fill-color: #AAA;\n",
              "      --disabled-bg-color: #DDD;\n",
              "  }\n",
              "\n",
              "  [theme=dark] .colab-df-quickchart {\n",
              "      --bg-color: #3B4455;\n",
              "      --fill-color: #D2E3FC;\n",
              "      --hover-bg-color: #434B5C;\n",
              "      --hover-fill-color: #FFFFFF;\n",
              "      --disabled-bg-color: #3B4455;\n",
              "      --disabled-fill-color: #666;\n",
              "  }\n",
              "\n",
              "  .colab-df-quickchart {\n",
              "    background-color: var(--bg-color);\n",
              "    border: none;\n",
              "    border-radius: 50%;\n",
              "    cursor: pointer;\n",
              "    display: none;\n",
              "    fill: var(--fill-color);\n",
              "    height: 32px;\n",
              "    padding: 0;\n",
              "    width: 32px;\n",
              "  }\n",
              "\n",
              "  .colab-df-quickchart:hover {\n",
              "    background-color: var(--hover-bg-color);\n",
              "    box-shadow: 0 1px 2px rgba(60, 64, 67, 0.3), 0 1px 3px 1px rgba(60, 64, 67, 0.15);\n",
              "    fill: var(--button-hover-fill-color);\n",
              "  }\n",
              "\n",
              "  .colab-df-quickchart-complete:disabled,\n",
              "  .colab-df-quickchart-complete:disabled:hover {\n",
              "    background-color: var(--disabled-bg-color);\n",
              "    fill: var(--disabled-fill-color);\n",
              "    box-shadow: none;\n",
              "  }\n",
              "\n",
              "  .colab-df-spinner {\n",
              "    border: 2px solid var(--fill-color);\n",
              "    border-color: transparent;\n",
              "    border-bottom-color: var(--fill-color);\n",
              "    animation:\n",
              "      spin 1s steps(1) infinite;\n",
              "  }\n",
              "\n",
              "  @keyframes spin {\n",
              "    0% {\n",
              "      border-color: transparent;\n",
              "      border-bottom-color: var(--fill-color);\n",
              "      border-left-color: var(--fill-color);\n",
              "    }\n",
              "    20% {\n",
              "      border-color: transparent;\n",
              "      border-left-color: var(--fill-color);\n",
              "      border-top-color: var(--fill-color);\n",
              "    }\n",
              "    30% {\n",
              "      border-color: transparent;\n",
              "      border-left-color: var(--fill-color);\n",
              "      border-top-color: var(--fill-color);\n",
              "      border-right-color: var(--fill-color);\n",
              "    }\n",
              "    40% {\n",
              "      border-color: transparent;\n",
              "      border-right-color: var(--fill-color);\n",
              "      border-top-color: var(--fill-color);\n",
              "    }\n",
              "    60% {\n",
              "      border-color: transparent;\n",
              "      border-right-color: var(--fill-color);\n",
              "    }\n",
              "    80% {\n",
              "      border-color: transparent;\n",
              "      border-right-color: var(--fill-color);\n",
              "      border-bottom-color: var(--fill-color);\n",
              "    }\n",
              "    90% {\n",
              "      border-color: transparent;\n",
              "      border-bottom-color: var(--fill-color);\n",
              "    }\n",
              "  }\n",
              "</style>\n",
              "\n",
              "  <script>\n",
              "    async function quickchart(key) {\n",
              "      const quickchartButtonEl =\n",
              "        document.querySelector('#' + key + ' button');\n",
              "      quickchartButtonEl.disabled = true;  // To prevent multiple clicks.\n",
              "      quickchartButtonEl.classList.add('colab-df-spinner');\n",
              "      try {\n",
              "        const charts = await google.colab.kernel.invokeFunction(\n",
              "            'suggestCharts', [key], {});\n",
              "      } catch (error) {\n",
              "        console.error('Error during call to suggestCharts:', error);\n",
              "      }\n",
              "      quickchartButtonEl.classList.remove('colab-df-spinner');\n",
              "      quickchartButtonEl.classList.add('colab-df-quickchart-complete');\n",
              "    }\n",
              "    (() => {\n",
              "      let quickchartButtonEl =\n",
              "        document.querySelector('#df-46283f95-11c5-4288-aaa2-04126d122d1f button');\n",
              "      quickchartButtonEl.style.display =\n",
              "        google.colab.kernel.accessAllowed ? 'block' : 'none';\n",
              "    })();\n",
              "  </script>\n",
              "</div>\n",
              "    </div>\n",
              "  </div>\n"
            ]
          },
          "metadata": {},
          "execution_count": 2
        }
      ],
      "source": [
        "df = pd.read_csv(\"/content/drive/MyDrive/LINKEDINproject.csv\",encoding='ISO-8859-1')\n",
        "df"
      ]
    },
    {
      "cell_type": "code",
      "execution_count": 3,
      "metadata": {
        "colab": {
          "base_uri": "https://localhost:8080/"
        },
        "id": "5yQh7x6BB52W",
        "outputId": "3eef753e-3ef4-4693-88b1-ea2acdb4365e"
      },
      "outputs": [
        {
          "output_type": "execute_result",
          "data": {
            "text/plain": [
              "(7927, 16)"
            ]
          },
          "metadata": {},
          "execution_count": 3
        }
      ],
      "source": [
        "df.shape"
      ]
    },
    {
      "cell_type": "code",
      "execution_count": 4,
      "metadata": {
        "id": "D5J6hEmFh8N8"
      },
      "outputs": [],
      "source": [
        "#for i in df['job'].unique():\n",
        "    #print(i)"
      ]
    },
    {
      "cell_type": "code",
      "execution_count": 5,
      "metadata": {
        "colab": {
          "base_uri": "https://localhost:8080/"
        },
        "id": "hvybsOFQB56E",
        "outputId": "a3f441d9-8195-41c4-af80-01a39b379628"
      },
      "outputs": [
        {
          "output_type": "stream",
          "name": "stdout",
          "text": [
            "<class 'pandas.core.frame.DataFrame'>\n",
            "RangeIndex: 7927 entries, 0 to 7926\n",
            "Data columns (total 16 columns):\n",
            " #   Column              Non-Null Count  Dtype  \n",
            "---  ------              --------------  -----  \n",
            " 0   job_ID              7927 non-null   int64  \n",
            " 1   job                 7894 non-null   object \n",
            " 2   location            7894 non-null   object \n",
            " 3   company_id          0 non-null      float64\n",
            " 4   company_name        7892 non-null   object \n",
            " 5   work_type           7736 non-null   object \n",
            " 6   full_time_remote    7848 non-null   object \n",
            " 7   no_of_employ        7603 non-null   object \n",
            " 8   no_of_application   7887 non-null   object \n",
            " 9   posted_day_ago      7920 non-null   object \n",
            " 10  alumni              4858 non-null   object \n",
            " 11  Hiring_person       5720 non-null   object \n",
            " 12  linkedin_followers  4814 non-null   object \n",
            " 13  hiring_person_link  5720 non-null   object \n",
            " 14  job_details         7881 non-null   object \n",
            " 15  Column1             0 non-null      float64\n",
            "dtypes: float64(2), int64(1), object(13)\n",
            "memory usage: 991.0+ KB\n"
          ]
        }
      ],
      "source": [
        "df.info()"
      ]
    },
    {
      "cell_type": "code",
      "execution_count": 6,
      "metadata": {
        "colab": {
          "base_uri": "https://localhost:8080/"
        },
        "id": "6f4AgX22CTnd",
        "outputId": "4f58aaa7-8f7f-4660-9347-ea61072e770f"
      },
      "outputs": [
        {
          "output_type": "execute_result",
          "data": {
            "text/plain": [
              "['job_ID',\n",
              " 'job',\n",
              " 'location',\n",
              " 'company_id',\n",
              " 'company_name',\n",
              " 'work_type',\n",
              " 'full_time_remote',\n",
              " 'no_of_employ',\n",
              " 'no_of_application',\n",
              " 'posted_day_ago',\n",
              " 'alumni',\n",
              " 'Hiring_person',\n",
              " 'linkedin_followers',\n",
              " 'hiring_person_link',\n",
              " 'job_details',\n",
              " 'Column1']"
            ]
          },
          "metadata": {},
          "execution_count": 6
        }
      ],
      "source": [
        "list(df.columns)"
      ]
    },
    {
      "cell_type": "code",
      "execution_count": 7,
      "metadata": {
        "colab": {
          "base_uri": "https://localhost:8080/"
        },
        "id": "RDDnYOzsCgV7",
        "outputId": "3c33b705-308d-4b5a-d330-4e785aa7f28b"
      },
      "outputs": [
        {
          "output_type": "execute_result",
          "data": {
            "text/plain": [
              "job_ID                   0\n",
              "job                     33\n",
              "location                33\n",
              "company_id            7927\n",
              "company_name            35\n",
              "work_type              191\n",
              "full_time_remote        79\n",
              "no_of_employ           324\n",
              "no_of_application       40\n",
              "posted_day_ago           7\n",
              "alumni                3069\n",
              "Hiring_person         2207\n",
              "linkedin_followers    3113\n",
              "hiring_person_link    2207\n",
              "job_details             46\n",
              "Column1               7927\n",
              "dtype: int64"
            ]
          },
          "metadata": {},
          "execution_count": 7
        }
      ],
      "source": [
        "df.isnull().sum()"
      ]
    },
    {
      "cell_type": "code",
      "execution_count": 8,
      "metadata": {
        "id": "dQ9_jrSVCgXt"
      },
      "outputs": [],
      "source": [
        "df.drop(columns=['job_ID'], inplace=True)"
      ]
    },
    {
      "cell_type": "code",
      "execution_count": 9,
      "metadata": {
        "id": "LRk3N4nDCgZ4"
      },
      "outputs": [],
      "source": [
        "df.drop(columns=['company_id'], inplace=True)"
      ]
    },
    {
      "cell_type": "code",
      "execution_count": 10,
      "metadata": {
        "id": "nWgTWSPiCgdP"
      },
      "outputs": [],
      "source": [
        "df.drop(columns=['Column1'], inplace=True)"
      ]
    },
    {
      "cell_type": "code",
      "execution_count": 11,
      "metadata": {
        "colab": {
          "base_uri": "https://localhost:8080/"
        },
        "id": "Zhm_0B-9Cges",
        "outputId": "5564cae3-5738-4239-af32-542bd400ae8e"
      },
      "outputs": [
        {
          "output_type": "execute_result",
          "data": {
            "text/plain": [
              "['job',\n",
              " 'location',\n",
              " 'company_name',\n",
              " 'work_type',\n",
              " 'full_time_remote',\n",
              " 'no_of_employ',\n",
              " 'no_of_application',\n",
              " 'posted_day_ago',\n",
              " 'alumni',\n",
              " 'Hiring_person',\n",
              " 'linkedin_followers',\n",
              " 'hiring_person_link',\n",
              " 'job_details']"
            ]
          },
          "metadata": {},
          "execution_count": 11
        }
      ],
      "source": [
        "list(df.columns)"
      ]
    },
    {
      "cell_type": "code",
      "execution_count": 12,
      "metadata": {
        "colab": {
          "base_uri": "https://localhost:8080/"
        },
        "id": "K2TTYW1kCgiF",
        "outputId": "6f4ac64c-5234-43d9-c38f-2d57db2fae78"
      },
      "outputs": [
        {
          "output_type": "execute_result",
          "data": {
            "text/plain": [
              "(7927, 13)"
            ]
          },
          "metadata": {},
          "execution_count": 12
        }
      ],
      "source": [
        "df.shape"
      ]
    },
    {
      "cell_type": "code",
      "execution_count": 13,
      "metadata": {
        "id": "qOEM74GhDlhM"
      },
      "outputs": [],
      "source": [
        "# using forward fill method to fill the null values\n",
        "\n",
        "df['job'].fillna(method=\"ffill\", inplace=True)"
      ]
    },
    {
      "cell_type": "code",
      "execution_count": 14,
      "metadata": {
        "id": "Sj0LFu1Qw8M4"
      },
      "outputs": [],
      "source": [
        "# Split the 'job' column by comma and select the first part as the job title\n",
        "df['job_title'] = df['job'].str.split(',').str[0]\n",
        "\n"
      ]
    },
    {
      "cell_type": "code",
      "execution_count": 15,
      "metadata": {
        "id": "z2xNDD4ZxVm4"
      },
      "outputs": [],
      "source": [
        "df.drop(columns=['job'], inplace=True)"
      ]
    },
    {
      "cell_type": "code",
      "execution_count": 16,
      "metadata": {
        "id": "Q8AfnfhsE52g"
      },
      "outputs": [],
      "source": [
        "# Get unique non-null values from the 'location' column\n",
        "non_null_locations = df['location'].dropna().unique()\n",
        "\n",
        "# Function to randomly fill null entries\n",
        "def fill_null_locations(location):\n",
        "    if pd.isna(location):\n",
        "        return random.choice(non_null_locations)\n",
        "    else:\n",
        "        return location\n",
        "\n",
        "# Apply the function to fill null entries in the 'location' column\n",
        "df['location'] = df['location'].apply(fill_null_locations)\n",
        "\n"
      ]
    },
    {
      "cell_type": "code",
      "execution_count": 17,
      "metadata": {
        "id": "jSQC0YSpDlm3"
      },
      "outputs": [],
      "source": [
        "df['company_name'].fillna(method=\"ffill\", inplace=True)"
      ]
    },
    {
      "cell_type": "code",
      "execution_count": 18,
      "metadata": {
        "id": "dm1aCinqDlpA"
      },
      "outputs": [],
      "source": [
        "# to fill the work_type column\n",
        "\n",
        "import random\n",
        "\n",
        "work_types = ['Full-time', 'Part-time', 'Contract', 'Freelance', 'Internship']\n",
        "\n",
        "def random_work_type():\n",
        "    return random.choice(work_types)\n",
        "\n",
        "df['work_type'].fillna(random_work_type(), inplace=True)"
      ]
    },
    {
      "cell_type": "code",
      "execution_count": 19,
      "metadata": {
        "id": "lroEn1grDlrF"
      },
      "outputs": [],
      "source": [
        "# In the column full time remote i have removed ú form the columns where ú in present\n",
        "\n",
        "# Remove 'ú' from the 'full_time_remote' column\n",
        "df['full_time_remote'] = df['full_time_remote'].str.replace('ú', '')\n",
        "\n",
        "\n",
        "# Replace '1-10 employees' with NaN\n",
        "df['full_time_remote'] = df['full_time_remote'].replace('1-10 employees', np.nan)\n",
        "\n",
        "# Replace '1-10 employees' with NaN\n",
        "df['full_time_remote'] = df['full_time_remote'].replace('11-50 employees', np.nan)\n",
        "\n",
        "\n"
      ]
    },
    {
      "cell_type": "code",
      "execution_count": 20,
      "metadata": {
        "id": "dbVRtIi7ddTL"
      },
      "outputs": [],
      "source": [
        "# Values to fill null entries with\n",
        "fill_values = ['part-time internship', 'part-time associate','full-time internship','full-time junior']\n",
        "\n",
        "# Fill null entries with specific values\n",
        "df['full_time_remote'].fillna(pd.Series(fill_values * (len(df) // len(fill_values))), inplace=True)\n"
      ]
    },
    {
      "cell_type": "code",
      "execution_count": 21,
      "metadata": {
        "colab": {
          "base_uri": "https://localhost:8080/"
        },
        "id": "YVmbs_XMU8Vv",
        "outputId": "f1403516-da71-448f-e73d-6b94bf7868c0"
      },
      "outputs": [
        {
          "output_type": "execute_result",
          "data": {
            "text/plain": [
              "<bound method Series.unique of 0              Full-time  Associate\n",
              "1              Full-time  Associate\n",
              "2       Full-time  Mid-Senior level\n",
              "3                         Full-time\n",
              "4                         Full-time\n",
              "                   ...             \n",
              "7922           Full-time  Associate\n",
              "7923    Full-time  Mid-Senior level\n",
              "7924    Full-time  Mid-Senior level\n",
              "7925    Full-time  Mid-Senior level\n",
              "7926    Full-time  Mid-Senior level\n",
              "Name: full_time_remote, Length: 7927, dtype: object>"
            ]
          },
          "metadata": {},
          "execution_count": 21
        }
      ],
      "source": [
        "df['full_time_remote'].unique"
      ]
    },
    {
      "cell_type": "code",
      "execution_count": 22,
      "metadata": {
        "colab": {
          "base_uri": "https://localhost:8080/"
        },
        "id": "oRUVAzlSDlyT",
        "outputId": "1c6513b4-5bbc-4bdf-f450-85f6592a29b8"
      },
      "outputs": [
        {
          "output_type": "execute_result",
          "data": {
            "text/plain": [
              "location                 0\n",
              "company_name             0\n",
              "work_type                0\n",
              "full_time_remote         0\n",
              "no_of_employ           324\n",
              "no_of_application       40\n",
              "posted_day_ago           7\n",
              "alumni                3069\n",
              "Hiring_person         2207\n",
              "linkedin_followers    3113\n",
              "hiring_person_link    2207\n",
              "job_details             46\n",
              "job_title                0\n",
              "dtype: int64"
            ]
          },
          "metadata": {},
          "execution_count": 22
        }
      ],
      "source": [
        "df.isnull().sum()"
      ]
    },
    {
      "cell_type": "code",
      "execution_count": 23,
      "metadata": {
        "colab": {
          "base_uri": "https://localhost:8080/"
        },
        "id": "8CexTpJnDl0F",
        "outputId": "5cc59756-19b1-46b3-bab6-b1980dba9ffc"
      },
      "outputs": [
        {
          "output_type": "execute_result",
          "data": {
            "text/plain": [
              "<bound method Series.unique of 0       1,001-5,000 employees ú IT Services and IT Con...\n",
              "1       1,001-5,000 employees ú IT Services and IT Con...\n",
              "2       1,001-5,000 employees ú IT Services and IT Con...\n",
              "3                                          1-10 employees\n",
              "4                                          1-10 employees\n",
              "                              ...                        \n",
              "7922    5,001-10,000 employees ú IT Services and IT Co...\n",
              "7923    1,001-5,000 employees ú IT Services and IT Con...\n",
              "7924    10,001+ employees ú IT Services and IT Consulting\n",
              "7925    1,001-5,000 employees ú IT Services and IT Con...\n",
              "7926    10,001+ employees ú IT Services and IT Consulting\n",
              "Name: no_of_employ, Length: 7927, dtype: object>"
            ]
          },
          "metadata": {},
          "execution_count": 23
        }
      ],
      "source": [
        "df['no_of_employ'].unique"
      ]
    },
    {
      "cell_type": "code",
      "execution_count": 24,
      "metadata": {
        "id": "B78qJgbLDl25"
      },
      "outputs": [],
      "source": [
        "#cleaning no_of_employ column\n",
        "\n",
        "# Extract the \"1,001-5,000\" part using regular expressions\n",
        "df['no_of_employ'] = df['no_of_employ'].str.extract(r'(\\d+,\\d+\\s*-\\s*\\d+,\\d+)')\n",
        "# The regular expression \\d+,\\d+\\s*-\\s*\\d+,\\d+ matches a pattern like \"1,001-5,000\"\n",
        "\n",
        "\n",
        "df['no_of_employ'].fillna(method=\"ffill\", inplace=True)\n"
      ]
    },
    {
      "cell_type": "code",
      "execution_count": 25,
      "metadata": {
        "colab": {
          "base_uri": "https://localhost:8080/",
          "height": 825
        },
        "id": "RDlmBmUC_Ncp",
        "outputId": "e27df654-89b2-4be9-e444-e3ee3f63d093"
      },
      "outputs": [
        {
          "output_type": "execute_result",
          "data": {
            "text/plain": [
              "                            location               company_name work_type  \\\n",
              "0                Delhi, Delhi, India                  Crossover    Remote   \n",
              "1            New Delhi, Delhi, India                  Crossover    Remote   \n",
              "2             Greater Bengaluru Area                     Uplers    Remote   \n",
              "3           Gurugram, Haryana, India              PVAR SERVICES   On-site   \n",
              "4     Mohali district, Punjab, India   Timeline Freight Brokers   On-site   \n",
              "...                              ...                        ...       ...   \n",
              "7922            Kochi, Kerala, India           Orion Innovation    Hybrid   \n",
              "7923        Gurugram, Haryana, India                     Uplers   On-site   \n",
              "7924     Hyderabad, Telangana, India  Tata Consultancy Services   On-site   \n",
              "7925     Bengaluru, Karnataka, India                     Uplers    Remote   \n",
              "7926     Bengaluru, Karnataka, India                    Akkodis    Hybrid   \n",
              "\n",
              "                 full_time_remote  no_of_employ no_of_application  \\\n",
              "0            Full-time  Associate   1,001-5,000               200   \n",
              "1            Full-time  Associate   1,001-5,000               184   \n",
              "2     Full-time  Mid-Senior level   1,001-5,000               200   \n",
              "3                       Full-time   1,001-5,000               200   \n",
              "4                       Full-time   1,001-5,000                 8   \n",
              "...                           ...           ...               ...   \n",
              "7922         Full-time  Associate  5,001-10,000                25   \n",
              "7923  Full-time  Mid-Senior level   1,001-5,000                18   \n",
              "7924  Full-time  Mid-Senior level   1,001-5,000                15   \n",
              "7925  Full-time  Mid-Senior level   1,001-5,000                17   \n",
              "7926  Full-time  Mid-Senior level   1,001-5,000                43   \n",
              "\n",
              "     posted_day_ago                 alumni           Hiring_person  \\\n",
              "0           8 hours      12 company alumni                     NaN   \n",
              "1           8 hours      12 company alumni                     NaN   \n",
              "2           9 hours       3 company alumni            Shahid Ahmad   \n",
              "3           7 hours                    NaN           Vartika Singh   \n",
              "4        26 minutes       1 company alumni  Manisha (Gisele Smith)   \n",
              "...             ...                    ...                     ...   \n",
              "7922         2 days      24 company alumni    Poornima Viswanathan   \n",
              "7923         2 days       3 company alumni           Tejveer Singh   \n",
              "7924         6 days  10,080 company alumni            ANNIE ANTONY   \n",
              "7925          1 day       3 company alumni             Arjun Jaggi   \n",
              "7926         1 week      27 company alumni                     NaN   \n",
              "\n",
              "        linkedin_followers                                 hiring_person_link  \\\n",
              "0      5,395,547 followers                                                NaN   \n",
              "1      5,395,547 followers                                                NaN   \n",
              "2                      NaN  https://www.linkedin.com/in/shahid-ahmad-a2613...   \n",
              "3          2,094 followers         https://www.linkedin.com/in/vartika-singh-   \n",
              "4                      NaN     https://www.linkedin.com/in/manisharathore0029   \n",
              "...                    ...                                                ...   \n",
              "7922                   NaN  https://www.linkedin.com/in/poornima-viswanath...   \n",
              "7923                   NaN  https://www.linkedin.com/in/tejveer-singh-a348...   \n",
              "7924  11,923,634 followers  https://www.linkedin.com/in/annie-antony-a1041...   \n",
              "7925                   NaN            https://www.linkedin.com/in/arjunjaggi7   \n",
              "7926   1,421,090 followers                                                NaN   \n",
              "\n",
              "                                            job_details  \\\n",
              "0     About the job Crossover is the world's #1 sour...   \n",
              "1     About the job Crossover is the world's #1 sour...   \n",
              "2     About the job Profile: ML EngineersExperience:...   \n",
              "3     About the job Designation: Data AnalystLocatio...   \n",
              "4     About the job The ideal candidate will use the...   \n",
              "...                                                 ...   \n",
              "7922  About the job The ideal candidate will show in...   \n",
              "7923  About the job Experience: 4 - 8 yearsProfile: ...   \n",
              "7924  About the job Role- Vue js DeveloperExperience...   \n",
              "7925  About the job Profile: iOS DeveloperExperience...   \n",
              "7926  About the job JD Powertrain Function Developer...   \n",
              "\n",
              "                           job_title  \n",
              "0                       Data Analyst  \n",
              "1                       Data Analyst  \n",
              "2                 Data Analyst - WFH  \n",
              "3                       Data Analyst  \n",
              "4                       Data Analyst  \n",
              "...                              ...  \n",
              "7922              Back End Developer  \n",
              "7923      Software Engineer - Senior  \n",
              "7924                          Vue JS  \n",
              "7925                   iOS Developer  \n",
              "7926  Power train function developer  \n",
              "\n",
              "[3689 rows x 13 columns]"
            ],
            "text/html": [
              "\n",
              "  <div id=\"df-ad115c7a-4328-4df1-a026-e2a03ee9556b\" class=\"colab-df-container\">\n",
              "    <div>\n",
              "<style scoped>\n",
              "    .dataframe tbody tr th:only-of-type {\n",
              "        vertical-align: middle;\n",
              "    }\n",
              "\n",
              "    .dataframe tbody tr th {\n",
              "        vertical-align: top;\n",
              "    }\n",
              "\n",
              "    .dataframe thead th {\n",
              "        text-align: right;\n",
              "    }\n",
              "</style>\n",
              "<table border=\"1\" class=\"dataframe\">\n",
              "  <thead>\n",
              "    <tr style=\"text-align: right;\">\n",
              "      <th></th>\n",
              "      <th>location</th>\n",
              "      <th>company_name</th>\n",
              "      <th>work_type</th>\n",
              "      <th>full_time_remote</th>\n",
              "      <th>no_of_employ</th>\n",
              "      <th>no_of_application</th>\n",
              "      <th>posted_day_ago</th>\n",
              "      <th>alumni</th>\n",
              "      <th>Hiring_person</th>\n",
              "      <th>linkedin_followers</th>\n",
              "      <th>hiring_person_link</th>\n",
              "      <th>job_details</th>\n",
              "      <th>job_title</th>\n",
              "    </tr>\n",
              "  </thead>\n",
              "  <tbody>\n",
              "    <tr>\n",
              "      <th>0</th>\n",
              "      <td>Delhi, Delhi, India</td>\n",
              "      <td>Crossover</td>\n",
              "      <td>Remote</td>\n",
              "      <td>Full-time  Associate</td>\n",
              "      <td>1,001-5,000</td>\n",
              "      <td>200</td>\n",
              "      <td>8 hours</td>\n",
              "      <td>12 company alumni</td>\n",
              "      <td>NaN</td>\n",
              "      <td>5,395,547 followers</td>\n",
              "      <td>NaN</td>\n",
              "      <td>About the job Crossover is the world's #1 sour...</td>\n",
              "      <td>Data Analyst</td>\n",
              "    </tr>\n",
              "    <tr>\n",
              "      <th>1</th>\n",
              "      <td>New Delhi, Delhi, India</td>\n",
              "      <td>Crossover</td>\n",
              "      <td>Remote</td>\n",
              "      <td>Full-time  Associate</td>\n",
              "      <td>1,001-5,000</td>\n",
              "      <td>184</td>\n",
              "      <td>8 hours</td>\n",
              "      <td>12 company alumni</td>\n",
              "      <td>NaN</td>\n",
              "      <td>5,395,547 followers</td>\n",
              "      <td>NaN</td>\n",
              "      <td>About the job Crossover is the world's #1 sour...</td>\n",
              "      <td>Data Analyst</td>\n",
              "    </tr>\n",
              "    <tr>\n",
              "      <th>2</th>\n",
              "      <td>Greater Bengaluru Area</td>\n",
              "      <td>Uplers</td>\n",
              "      <td>Remote</td>\n",
              "      <td>Full-time  Mid-Senior level</td>\n",
              "      <td>1,001-5,000</td>\n",
              "      <td>200</td>\n",
              "      <td>9 hours</td>\n",
              "      <td>3 company alumni</td>\n",
              "      <td>Shahid Ahmad</td>\n",
              "      <td>NaN</td>\n",
              "      <td>https://www.linkedin.com/in/shahid-ahmad-a2613...</td>\n",
              "      <td>About the job Profile: ML EngineersExperience:...</td>\n",
              "      <td>Data Analyst - WFH</td>\n",
              "    </tr>\n",
              "    <tr>\n",
              "      <th>3</th>\n",
              "      <td>Gurugram, Haryana, India</td>\n",
              "      <td>PVAR SERVICES</td>\n",
              "      <td>On-site</td>\n",
              "      <td>Full-time</td>\n",
              "      <td>1,001-5,000</td>\n",
              "      <td>200</td>\n",
              "      <td>7 hours</td>\n",
              "      <td>NaN</td>\n",
              "      <td>Vartika Singh</td>\n",
              "      <td>2,094 followers</td>\n",
              "      <td>https://www.linkedin.com/in/vartika-singh-</td>\n",
              "      <td>About the job Designation: Data AnalystLocatio...</td>\n",
              "      <td>Data Analyst</td>\n",
              "    </tr>\n",
              "    <tr>\n",
              "      <th>4</th>\n",
              "      <td>Mohali district, Punjab, India</td>\n",
              "      <td>Timeline Freight Brokers</td>\n",
              "      <td>On-site</td>\n",
              "      <td>Full-time</td>\n",
              "      <td>1,001-5,000</td>\n",
              "      <td>8</td>\n",
              "      <td>26 minutes</td>\n",
              "      <td>1 company alumni</td>\n",
              "      <td>Manisha (Gisele Smith)</td>\n",
              "      <td>NaN</td>\n",
              "      <td>https://www.linkedin.com/in/manisharathore0029</td>\n",
              "      <td>About the job The ideal candidate will use the...</td>\n",
              "      <td>Data Analyst</td>\n",
              "    </tr>\n",
              "    <tr>\n",
              "      <th>...</th>\n",
              "      <td>...</td>\n",
              "      <td>...</td>\n",
              "      <td>...</td>\n",
              "      <td>...</td>\n",
              "      <td>...</td>\n",
              "      <td>...</td>\n",
              "      <td>...</td>\n",
              "      <td>...</td>\n",
              "      <td>...</td>\n",
              "      <td>...</td>\n",
              "      <td>...</td>\n",
              "      <td>...</td>\n",
              "      <td>...</td>\n",
              "    </tr>\n",
              "    <tr>\n",
              "      <th>7922</th>\n",
              "      <td>Kochi, Kerala, India</td>\n",
              "      <td>Orion Innovation</td>\n",
              "      <td>Hybrid</td>\n",
              "      <td>Full-time  Associate</td>\n",
              "      <td>5,001-10,000</td>\n",
              "      <td>25</td>\n",
              "      <td>2 days</td>\n",
              "      <td>24 company alumni</td>\n",
              "      <td>Poornima Viswanathan</td>\n",
              "      <td>NaN</td>\n",
              "      <td>https://www.linkedin.com/in/poornima-viswanath...</td>\n",
              "      <td>About the job The ideal candidate will show in...</td>\n",
              "      <td>Back End Developer</td>\n",
              "    </tr>\n",
              "    <tr>\n",
              "      <th>7923</th>\n",
              "      <td>Gurugram, Haryana, India</td>\n",
              "      <td>Uplers</td>\n",
              "      <td>On-site</td>\n",
              "      <td>Full-time  Mid-Senior level</td>\n",
              "      <td>1,001-5,000</td>\n",
              "      <td>18</td>\n",
              "      <td>2 days</td>\n",
              "      <td>3 company alumni</td>\n",
              "      <td>Tejveer Singh</td>\n",
              "      <td>NaN</td>\n",
              "      <td>https://www.linkedin.com/in/tejveer-singh-a348...</td>\n",
              "      <td>About the job Experience: 4 - 8 yearsProfile: ...</td>\n",
              "      <td>Software Engineer - Senior</td>\n",
              "    </tr>\n",
              "    <tr>\n",
              "      <th>7924</th>\n",
              "      <td>Hyderabad, Telangana, India</td>\n",
              "      <td>Tata Consultancy Services</td>\n",
              "      <td>On-site</td>\n",
              "      <td>Full-time  Mid-Senior level</td>\n",
              "      <td>1,001-5,000</td>\n",
              "      <td>15</td>\n",
              "      <td>6 days</td>\n",
              "      <td>10,080 company alumni</td>\n",
              "      <td>ANNIE ANTONY</td>\n",
              "      <td>11,923,634 followers</td>\n",
              "      <td>https://www.linkedin.com/in/annie-antony-a1041...</td>\n",
              "      <td>About the job Role- Vue js DeveloperExperience...</td>\n",
              "      <td>Vue JS</td>\n",
              "    </tr>\n",
              "    <tr>\n",
              "      <th>7925</th>\n",
              "      <td>Bengaluru, Karnataka, India</td>\n",
              "      <td>Uplers</td>\n",
              "      <td>Remote</td>\n",
              "      <td>Full-time  Mid-Senior level</td>\n",
              "      <td>1,001-5,000</td>\n",
              "      <td>17</td>\n",
              "      <td>1 day</td>\n",
              "      <td>3 company alumni</td>\n",
              "      <td>Arjun Jaggi</td>\n",
              "      <td>NaN</td>\n",
              "      <td>https://www.linkedin.com/in/arjunjaggi7</td>\n",
              "      <td>About the job Profile: iOS DeveloperExperience...</td>\n",
              "      <td>iOS Developer</td>\n",
              "    </tr>\n",
              "    <tr>\n",
              "      <th>7926</th>\n",
              "      <td>Bengaluru, Karnataka, India</td>\n",
              "      <td>Akkodis</td>\n",
              "      <td>Hybrid</td>\n",
              "      <td>Full-time  Mid-Senior level</td>\n",
              "      <td>1,001-5,000</td>\n",
              "      <td>43</td>\n",
              "      <td>1 week</td>\n",
              "      <td>27 company alumni</td>\n",
              "      <td>NaN</td>\n",
              "      <td>1,421,090 followers</td>\n",
              "      <td>NaN</td>\n",
              "      <td>About the job JD Powertrain Function Developer...</td>\n",
              "      <td>Power train function developer</td>\n",
              "    </tr>\n",
              "  </tbody>\n",
              "</table>\n",
              "<p>3689 rows × 13 columns</p>\n",
              "</div>\n",
              "    <div class=\"colab-df-buttons\">\n",
              "\n",
              "  <div class=\"colab-df-container\">\n",
              "    <button class=\"colab-df-convert\" onclick=\"convertToInteractive('df-ad115c7a-4328-4df1-a026-e2a03ee9556b')\"\n",
              "            title=\"Convert this dataframe to an interactive table.\"\n",
              "            style=\"display:none;\">\n",
              "\n",
              "  <svg xmlns=\"http://www.w3.org/2000/svg\" height=\"24px\" viewBox=\"0 -960 960 960\">\n",
              "    <path d=\"M120-120v-720h720v720H120Zm60-500h600v-160H180v160Zm220 220h160v-160H400v160Zm0 220h160v-160H400v160ZM180-400h160v-160H180v160Zm440 0h160v-160H620v160ZM180-180h160v-160H180v160Zm440 0h160v-160H620v160Z\"/>\n",
              "  </svg>\n",
              "    </button>\n",
              "\n",
              "  <style>\n",
              "    .colab-df-container {\n",
              "      display:flex;\n",
              "      gap: 12px;\n",
              "    }\n",
              "\n",
              "    .colab-df-convert {\n",
              "      background-color: #E8F0FE;\n",
              "      border: none;\n",
              "      border-radius: 50%;\n",
              "      cursor: pointer;\n",
              "      display: none;\n",
              "      fill: #1967D2;\n",
              "      height: 32px;\n",
              "      padding: 0 0 0 0;\n",
              "      width: 32px;\n",
              "    }\n",
              "\n",
              "    .colab-df-convert:hover {\n",
              "      background-color: #E2EBFA;\n",
              "      box-shadow: 0px 1px 2px rgba(60, 64, 67, 0.3), 0px 1px 3px 1px rgba(60, 64, 67, 0.15);\n",
              "      fill: #174EA6;\n",
              "    }\n",
              "\n",
              "    .colab-df-buttons div {\n",
              "      margin-bottom: 4px;\n",
              "    }\n",
              "\n",
              "    [theme=dark] .colab-df-convert {\n",
              "      background-color: #3B4455;\n",
              "      fill: #D2E3FC;\n",
              "    }\n",
              "\n",
              "    [theme=dark] .colab-df-convert:hover {\n",
              "      background-color: #434B5C;\n",
              "      box-shadow: 0px 1px 3px 1px rgba(0, 0, 0, 0.15);\n",
              "      filter: drop-shadow(0px 1px 2px rgba(0, 0, 0, 0.3));\n",
              "      fill: #FFFFFF;\n",
              "    }\n",
              "  </style>\n",
              "\n",
              "    <script>\n",
              "      const buttonEl =\n",
              "        document.querySelector('#df-ad115c7a-4328-4df1-a026-e2a03ee9556b button.colab-df-convert');\n",
              "      buttonEl.style.display =\n",
              "        google.colab.kernel.accessAllowed ? 'block' : 'none';\n",
              "\n",
              "      async function convertToInteractive(key) {\n",
              "        const element = document.querySelector('#df-ad115c7a-4328-4df1-a026-e2a03ee9556b');\n",
              "        const dataTable =\n",
              "          await google.colab.kernel.invokeFunction('convertToInteractive',\n",
              "                                                    [key], {});\n",
              "        if (!dataTable) return;\n",
              "\n",
              "        const docLinkHtml = 'Like what you see? Visit the ' +\n",
              "          '<a target=\"_blank\" href=https://colab.research.google.com/notebooks/data_table.ipynb>data table notebook</a>'\n",
              "          + ' to learn more about interactive tables.';\n",
              "        element.innerHTML = '';\n",
              "        dataTable['output_type'] = 'display_data';\n",
              "        await google.colab.output.renderOutput(dataTable, element);\n",
              "        const docLink = document.createElement('div');\n",
              "        docLink.innerHTML = docLinkHtml;\n",
              "        element.appendChild(docLink);\n",
              "      }\n",
              "    </script>\n",
              "  </div>\n",
              "\n",
              "\n",
              "<div id=\"df-a636d8e6-b7e3-4515-b9e2-7cbb8a1e2f75\">\n",
              "  <button class=\"colab-df-quickchart\" onclick=\"quickchart('df-a636d8e6-b7e3-4515-b9e2-7cbb8a1e2f75')\"\n",
              "            title=\"Suggest charts.\"\n",
              "            style=\"display:none;\">\n",
              "\n",
              "<svg xmlns=\"http://www.w3.org/2000/svg\" height=\"24px\"viewBox=\"0 0 24 24\"\n",
              "     width=\"24px\">\n",
              "    <g>\n",
              "        <path d=\"M19 3H5c-1.1 0-2 .9-2 2v14c0 1.1.9 2 2 2h14c1.1 0 2-.9 2-2V5c0-1.1-.9-2-2-2zM9 17H7v-7h2v7zm4 0h-2V7h2v10zm4 0h-2v-4h2v4z\"/>\n",
              "    </g>\n",
              "</svg>\n",
              "  </button>\n",
              "\n",
              "<style>\n",
              "  .colab-df-quickchart {\n",
              "      --bg-color: #E8F0FE;\n",
              "      --fill-color: #1967D2;\n",
              "      --hover-bg-color: #E2EBFA;\n",
              "      --hover-fill-color: #174EA6;\n",
              "      --disabled-fill-color: #AAA;\n",
              "      --disabled-bg-color: #DDD;\n",
              "  }\n",
              "\n",
              "  [theme=dark] .colab-df-quickchart {\n",
              "      --bg-color: #3B4455;\n",
              "      --fill-color: #D2E3FC;\n",
              "      --hover-bg-color: #434B5C;\n",
              "      --hover-fill-color: #FFFFFF;\n",
              "      --disabled-bg-color: #3B4455;\n",
              "      --disabled-fill-color: #666;\n",
              "  }\n",
              "\n",
              "  .colab-df-quickchart {\n",
              "    background-color: var(--bg-color);\n",
              "    border: none;\n",
              "    border-radius: 50%;\n",
              "    cursor: pointer;\n",
              "    display: none;\n",
              "    fill: var(--fill-color);\n",
              "    height: 32px;\n",
              "    padding: 0;\n",
              "    width: 32px;\n",
              "  }\n",
              "\n",
              "  .colab-df-quickchart:hover {\n",
              "    background-color: var(--hover-bg-color);\n",
              "    box-shadow: 0 1px 2px rgba(60, 64, 67, 0.3), 0 1px 3px 1px rgba(60, 64, 67, 0.15);\n",
              "    fill: var(--button-hover-fill-color);\n",
              "  }\n",
              "\n",
              "  .colab-df-quickchart-complete:disabled,\n",
              "  .colab-df-quickchart-complete:disabled:hover {\n",
              "    background-color: var(--disabled-bg-color);\n",
              "    fill: var(--disabled-fill-color);\n",
              "    box-shadow: none;\n",
              "  }\n",
              "\n",
              "  .colab-df-spinner {\n",
              "    border: 2px solid var(--fill-color);\n",
              "    border-color: transparent;\n",
              "    border-bottom-color: var(--fill-color);\n",
              "    animation:\n",
              "      spin 1s steps(1) infinite;\n",
              "  }\n",
              "\n",
              "  @keyframes spin {\n",
              "    0% {\n",
              "      border-color: transparent;\n",
              "      border-bottom-color: var(--fill-color);\n",
              "      border-left-color: var(--fill-color);\n",
              "    }\n",
              "    20% {\n",
              "      border-color: transparent;\n",
              "      border-left-color: var(--fill-color);\n",
              "      border-top-color: var(--fill-color);\n",
              "    }\n",
              "    30% {\n",
              "      border-color: transparent;\n",
              "      border-left-color: var(--fill-color);\n",
              "      border-top-color: var(--fill-color);\n",
              "      border-right-color: var(--fill-color);\n",
              "    }\n",
              "    40% {\n",
              "      border-color: transparent;\n",
              "      border-right-color: var(--fill-color);\n",
              "      border-top-color: var(--fill-color);\n",
              "    }\n",
              "    60% {\n",
              "      border-color: transparent;\n",
              "      border-right-color: var(--fill-color);\n",
              "    }\n",
              "    80% {\n",
              "      border-color: transparent;\n",
              "      border-right-color: var(--fill-color);\n",
              "      border-bottom-color: var(--fill-color);\n",
              "    }\n",
              "    90% {\n",
              "      border-color: transparent;\n",
              "      border-bottom-color: var(--fill-color);\n",
              "    }\n",
              "  }\n",
              "</style>\n",
              "\n",
              "  <script>\n",
              "    async function quickchart(key) {\n",
              "      const quickchartButtonEl =\n",
              "        document.querySelector('#' + key + ' button');\n",
              "      quickchartButtonEl.disabled = true;  // To prevent multiple clicks.\n",
              "      quickchartButtonEl.classList.add('colab-df-spinner');\n",
              "      try {\n",
              "        const charts = await google.colab.kernel.invokeFunction(\n",
              "            'suggestCharts', [key], {});\n",
              "      } catch (error) {\n",
              "        console.error('Error during call to suggestCharts:', error);\n",
              "      }\n",
              "      quickchartButtonEl.classList.remove('colab-df-spinner');\n",
              "      quickchartButtonEl.classList.add('colab-df-quickchart-complete');\n",
              "    }\n",
              "    (() => {\n",
              "      let quickchartButtonEl =\n",
              "        document.querySelector('#df-a636d8e6-b7e3-4515-b9e2-7cbb8a1e2f75 button');\n",
              "      quickchartButtonEl.style.display =\n",
              "        google.colab.kernel.accessAllowed ? 'block' : 'none';\n",
              "    })();\n",
              "  </script>\n",
              "</div>\n",
              "    </div>\n",
              "  </div>\n"
            ]
          },
          "metadata": {},
          "execution_count": 25
        }
      ],
      "source": [
        "# Values to remove\n",
        "values_to_remove = ['day', 'days', 'hour', 'hours', 'minute', 'minutes', 'second', 'seconds']\n",
        "\n",
        "# Filter rows where 'no_of_application' is not in values_to_remove\n",
        "df[~df['no_of_application'].isin(values_to_remove)]\n"
      ]
    },
    {
      "cell_type": "code",
      "execution_count": 26,
      "metadata": {
        "id": "une4m5FvDl5H"
      },
      "outputs": [],
      "source": [
        "df['no_of_application'].fillna(method='ffill', inplace=True)  # Forward fill"
      ]
    },
    {
      "cell_type": "code",
      "execution_count": 27,
      "metadata": {
        "id": "K5Bvl7plDmBn"
      },
      "outputs": [],
      "source": [
        "df['posted_day_ago'].fillna(method='ffill', inplace=True)  # Forward fill"
      ]
    },
    {
      "cell_type": "code",
      "execution_count": 28,
      "metadata": {
        "id": "5qikfxN6DmFE"
      },
      "outputs": [],
      "source": [
        "# method to remove company alumni name\n",
        "\n",
        "string_to_remove = 'company alumni'\n",
        "df['alumni'] = df['alumni'].str.replace(string_to_remove, '')\n",
        "\n",
        "\n",
        "df['alumni'].fillna(method='ffill', inplace=True)  # forward fill"
      ]
    },
    {
      "cell_type": "code",
      "execution_count": 29,
      "metadata": {
        "colab": {
          "base_uri": "https://localhost:8080/"
        },
        "id": "jxrrG1c2MlFv",
        "outputId": "a76121b1-9e6e-42bc-d8a2-f4986541c98e"
      },
      "outputs": [
        {
          "output_type": "execute_result",
          "data": {
            "text/plain": [
              "<bound method Series.unique of 0                          NaN\n",
              "1                          NaN\n",
              "2                 Shahid Ahmad\n",
              "3                Vartika Singh\n",
              "4       Manisha (Gisele Smith)\n",
              "                 ...          \n",
              "7922      Poornima Viswanathan\n",
              "7923             Tejveer Singh\n",
              "7924              ANNIE ANTONY\n",
              "7925               Arjun Jaggi\n",
              "7926                       NaN\n",
              "Name: Hiring_person, Length: 7927, dtype: object>"
            ]
          },
          "metadata": {},
          "execution_count": 29
        }
      ],
      "source": [
        "df['Hiring_person'].unique"
      ]
    },
    {
      "cell_type": "code",
      "execution_count": 30,
      "metadata": {
        "colab": {
          "base_uri": "https://localhost:8080/"
        },
        "id": "W7ZOBX6bMlH8",
        "outputId": "93aa57c2-1baf-408a-ddb8-c6c5b4f34428"
      },
      "outputs": [
        {
          "output_type": "stream",
          "name": "stdout",
          "text": [
            "Collecting faker\n",
            "  Downloading Faker-19.12.0-py3-none-any.whl (1.7 MB)\n",
            "\u001b[2K     \u001b[90m━━━━━━━━━━━━━━━━━━━━━━━━━━━━━━━━━━━━━━━━\u001b[0m \u001b[32m1.7/1.7 MB\u001b[0m \u001b[31m18.8 MB/s\u001b[0m eta \u001b[36m0:00:00\u001b[0m\n",
            "\u001b[?25hRequirement already satisfied: python-dateutil>=2.4 in /usr/local/lib/python3.10/dist-packages (from faker) (2.8.2)\n",
            "Requirement already satisfied: six>=1.5 in /usr/local/lib/python3.10/dist-packages (from python-dateutil>=2.4->faker) (1.16.0)\n",
            "Installing collected packages: faker\n",
            "Successfully installed faker-19.12.0\n"
          ]
        }
      ],
      "source": [
        "!pip install faker\n",
        "\n",
        "from faker import Faker\n",
        "\n",
        "fake = Faker('en_IN')\n"
      ]
    },
    {
      "cell_type": "code",
      "execution_count": 31,
      "metadata": {
        "id": "sCvQnnS6MlKa"
      },
      "outputs": [],
      "source": [
        "# Identify the rows with null values in the \"Hiring_person\" column\n",
        "null_rows = df['Hiring_person'].isnull()\n",
        "\n",
        "# Generate fake Indian names for the null values\n",
        "indian_names = [fake.name() for _ in range(sum(null_rows))]\n",
        "\n",
        "# Replace the null values with the generated names\n",
        "df.loc[null_rows, 'Hiring_person'] = indian_names"
      ]
    },
    {
      "cell_type": "code",
      "execution_count": 32,
      "metadata": {
        "id": "VQoE9-9rMlMd"
      },
      "outputs": [],
      "source": [
        "string_to_remove = 'followers'\n",
        "df['linkedin_followers'] = df['linkedin_followers'].str.replace(string_to_remove, '')\n",
        "\n",
        "# Remove commas from the 'linkedin_followers' column using str.replace()\n",
        "df['linkedin_followers'] = df['linkedin_followers'].str.replace(',', '')\n",
        "\n"
      ]
    },
    {
      "cell_type": "code",
      "execution_count": 33,
      "metadata": {
        "id": "OQmB6xm8MlNy"
      },
      "outputs": [],
      "source": [
        "# Convert the 'linkedin_followers' column to numeric\n",
        "df['linkedin_followers'] = pd.to_numeric(df['linkedin_followers'], errors='coerce')"
      ]
    },
    {
      "cell_type": "code",
      "execution_count": 34,
      "metadata": {
        "id": "0_XAp53MMlPA"
      },
      "outputs": [],
      "source": [
        "df['linkedin_followers'].fillna(method='ffill', inplace=True)"
      ]
    },
    {
      "cell_type": "code",
      "execution_count": 35,
      "metadata": {
        "colab": {
          "base_uri": "https://localhost:8080/"
        },
        "id": "gRY0c0WLMlS-",
        "outputId": "462a0a8a-b99b-488e-acdb-af66c5350ff0"
      },
      "outputs": [
        {
          "output_type": "execute_result",
          "data": {
            "text/plain": [
              "['location',\n",
              " 'company_name',\n",
              " 'work_type',\n",
              " 'full_time_remote',\n",
              " 'no_of_employ',\n",
              " 'no_of_application',\n",
              " 'posted_day_ago',\n",
              " 'alumni',\n",
              " 'Hiring_person',\n",
              " 'linkedin_followers',\n",
              " 'hiring_person_link',\n",
              " 'job_details',\n",
              " 'job_title']"
            ]
          },
          "metadata": {},
          "execution_count": 35
        }
      ],
      "source": [
        "list(df.columns)"
      ]
    },
    {
      "cell_type": "code",
      "execution_count": 36,
      "metadata": {
        "id": "fiDsYXwAMlWR"
      },
      "outputs": [],
      "source": [
        "# Define the possible experience levels\n",
        "experience_levels = ['Entry-Level', 'Mid-Level', 'Senior-Level','Associate','Specialist']\n",
        "\n",
        "# Create a new column 'experience_level' with random values\n",
        "df['experience_level'] = [random.choice(experience_levels) for _ in range(len(df))]\n"
      ]
    },
    {
      "cell_type": "code",
      "execution_count": 37,
      "metadata": {
        "id": "BMOLsBv58KkC"
      },
      "outputs": [],
      "source": [
        "import seaborn as sns\n",
        "import matplotlib.pyplot as plt\n"
      ]
    },
    {
      "cell_type": "code",
      "execution_count": 38,
      "metadata": {
        "colab": {
          "base_uri": "https://localhost:8080/"
        },
        "id": "ZPajYUcqyT3s",
        "outputId": "860aa121-0c94-44a5-dff9-0d1cdf4691a1"
      },
      "outputs": [
        {
          "output_type": "execute_result",
          "data": {
            "text/plain": [
              "EPAM Anywhere                1519\n",
              "Tata Consultancy Services     381\n",
              "Uplers                        297\n",
              "Crossover                     133\n",
              "Virtusa                        93\n",
              "Applicantz                     77\n",
              "LTIMindtree                    75\n",
              "Mobile Programming LLC         63\n",
              "Tech Mahindra                  47\n",
              "OptimHire                      40\n",
              "Name: company_name, dtype: int64"
            ]
          },
          "metadata": {},
          "execution_count": 38
        }
      ],
      "source": [
        "company_counts = df['company_name'].value_counts().head(10)\n",
        "company_counts"
      ]
    },
    {
      "cell_type": "code",
      "execution_count": 39,
      "metadata": {
        "colab": {
          "base_uri": "https://localhost:8080/",
          "height": 564
        },
        "id": "iNgpRYml0GQH",
        "outputId": "2768fdf6-dc6c-4f41-bc00-8651bd071eb5"
      },
      "outputs": [
        {
          "output_type": "display_data",
          "data": {
            "text/plain": [
              "<Figure size 1000x600 with 1 Axes>"
            ],
            "image/png": "[encoded data removed]"
          },
          "metadata": {}
        }
      ],
      "source": [
        "# Count the occurrences of each company name and select the top 10\n",
        "company_counts = df['company_name'].value_counts().head(10)\n",
        "\n",
        "# Create a barplot using Seaborn\n",
        "plt.figure(figsize=(10, 6))\n",
        "sns.barplot(x=company_counts.values, y=company_counts.index, palette=\"Blues_d\")\n",
        "\n",
        "# Customize the plot\n",
        "plt.xlabel('Count')\n",
        "plt.ylabel('Company Name')\n",
        "plt.title('Top 10 Companies by Count')\n",
        "\n",
        "# Show the plot\n",
        "plt.show()"
      ]
    },
    {
      "cell_type": "code",
      "execution_count": 40,
      "metadata": {
        "colab": {
          "base_uri": "https://localhost:8080/",
          "height": 564
        },
        "id": "LWopv6oE8Kpr",
        "outputId": "717695ef-1b33-48dd-aa91-f74d190ba24c"
      },
      "outputs": [
        {
          "output_type": "display_data",
          "data": {
            "text/plain": [
              "<Figure size 1000x600 with 1 Axes>"
            ],
            "image/png": "[encoded data removed]"
          },
          "metadata": {}
        }
      ],
      "source": [
        "# Count the occurrences of each location and select the top 10\n",
        "location_counts = df['location'].value_counts().sort_values(ascending = False).head(10)\n",
        "\n",
        "# Create a barplot using Seaborn\n",
        "plt.figure(figsize=(10, 6))\n",
        "sns.barplot(x=location_counts.values, y=location_counts.index, palette=\"Blues_d\")\n",
        "\n",
        "# Customize the plot\n",
        "plt.xlabel('Count')\n",
        "plt.ylabel('Location')\n",
        "plt.title('Top 10 Locations by Count')\n",
        "\n",
        "# Show the plot\n",
        "plt.show()"
      ]
    },
    {
      "cell_type": "code",
      "execution_count": 41,
      "metadata": {
        "id": "I53WRK758Ktc"
      },
      "outputs": [],
      "source": [
        "df.drop(df[df['location'] == \"India\"].index, inplace=True)\n"
      ]
    },
    {
      "cell_type": "code",
      "execution_count": 42,
      "metadata": {
        "colab": {
          "base_uri": "https://localhost:8080/",
          "height": 675
        },
        "id": "fsRtkwie2-C5",
        "outputId": "1e8abc7f-2105-49b1-f46f-f7353f53dec0"
      },
      "outputs": [
        {
          "output_type": "display_data",
          "data": {
            "text/plain": [
              "<Figure size 800x800 with 1 Axes>"
            ],
            "image/png": "[encoded data removed]"
          },
          "metadata": {}
        }
      ],
      "source": [
        "# Count the occurrences of each work type\n",
        "work_type_counts = df['work_type'].value_counts()\n",
        "\n",
        "# Define shades of light blue\n",
        "shades_of_light_blue = [\"#72A0C1\", \"#A6C5E1\", \"#C2D1E8\", \"#D4E2F0\", \"#E6F3F9\", \"#F5FBFF\"]\n",
        "\n",
        "# Create a pie chart\n",
        "plt.figure(figsize=(8, 8))\n",
        "plt.pie(work_type_counts, labels=work_type_counts.index, autopct='%1.1f%%', colors=shades_of_light_blue)\n",
        "\n",
        "# Add a title\n",
        "plt.title('Work Type Distribution')\n",
        "\n",
        "# Show the plot\n",
        "plt.show()"
      ]
    },
    {
      "cell_type": "code",
      "execution_count": 43,
      "metadata": {
        "colab": {
          "base_uri": "https://localhost:8080/",
          "height": 564
        },
        "id": "7SYis3Mw6WBV",
        "outputId": "0ef0ce5b-7e2e-4afc-c5ef-695f5ec05013"
      },
      "outputs": [
        {
          "output_type": "display_data",
          "data": {
            "text/plain": [
              "<Figure size 1000x600 with 1 Axes>"
            ],
            "image/png": "[encoded data removed]"
          },
          "metadata": {}
        }
      ],
      "source": [
        "# Count the occurrences of each job title and select the top 10\n",
        "job_counts = df['job_title'].value_counts().head(10)\n",
        "\n",
        "# Create a barplot using Seaborn\n",
        "plt.figure(figsize=(10, 6))\n",
        "sns.barplot(x=job_counts.values, y=job_counts.index, palette=\"Blues_d\")\n",
        "\n",
        "# Customize the plot\n",
        "plt.xlabel('Count')\n",
        "plt.ylabel('Job Title')\n",
        "plt.title('Top 10 Job Titles by Count')\n",
        "\n",
        "# Show the plot\n",
        "plt.show()"
      ]
    },
    {
      "cell_type": "code",
      "execution_count": 44,
      "metadata": {
        "colab": {
          "base_uri": "https://localhost:8080/",
          "height": 564
        },
        "id": "QzBH7Wqm6V_X",
        "outputId": "ccd2a69a-0f94-4687-973e-d8fb3f4da5cb"
      },
      "outputs": [
        {
          "output_type": "display_data",
          "data": {
            "text/plain": [
              "<Figure size 1000x600 with 1 Axes>"
            ],
            "image/png": "[encoded data removed]"
          },
          "metadata": {}
        }
      ],
      "source": [
        "# Count the occurrences of each hiring person and select the top 10\n",
        "hiring_person_counts = df['Hiring_person'].value_counts().head(10)\n",
        "\n",
        "# Create a barplot using Seaborn\n",
        "plt.figure(figsize=(10, 6))\n",
        "sns.barplot(x=hiring_person_counts.values, y=hiring_person_counts.index, palette=\"Blues_d\")\n",
        "\n",
        "# Customize the plot\n",
        "plt.xlabel('Count')\n",
        "plt.ylabel('Hiring Person')\n",
        "plt.title('Top 10 Hiring Persons by Count')\n",
        "\n",
        "# Show the plot\n",
        "plt.show()\n"
      ]
    },
    {
      "cell_type": "code",
      "execution_count": 45,
      "metadata": {
        "colab": {
          "base_uri": "https://localhost:8080/",
          "height": 564
        },
        "id": "US0R0-uo6V8c",
        "outputId": "acc41da3-fef1-49b1-a2a6-3ffd0b963e7d"
      },
      "outputs": [
        {
          "output_type": "display_data",
          "data": {
            "text/plain": [
              "<Figure size 1000x600 with 1 Axes>"
            ],
            "image/png": "[encoded data removed]"
          },
          "metadata": {}
        }
      ],
      "source": [
        "# Filter data for 'Remote' and 'On-site' work types\n",
        "top_jobs_remote = df[df['work_type'] == 'Remote']['job_title'].value_counts().head(10)\n",
        "top_jobs_onsite = df[df['work_type'] == 'On-site']['job_title'].value_counts().head(10)\n",
        "\n",
        "# Create a figure with subplots\n",
        "fig, ax = plt.subplots(figsize=(10, 6))\n",
        "\n",
        "# Create barplots for 'Remote' and 'On-site' job titles\n",
        "sns.barplot(x=top_jobs_remote.values, y=top_jobs_remote.index, ax=ax, palette=\"Blues_d\", label='Remote')\n",
        "sns.barplot(x=top_jobs_onsite.values, y=top_jobs_onsite.index, ax=ax, palette=\"Oranges_d\", label='On-site')\n",
        "\n",
        "# Customize the plot\n",
        "ax.set_title('Top 10 Job Titles for Remote and On-site Work Types')\n",
        "ax.set_xlabel('Number of Job Postings')\n",
        "ax.set_ylabel('Job Title')\n",
        "ax.legend()\n",
        "\n",
        "# Show the plot\n",
        "plt.show()"
      ]
    },
    {
      "cell_type": "code",
      "execution_count": 51,
      "metadata": {
        "id": "1XmDTNE0AqwH"
      },
      "outputs": [],
      "source": [
        "df.to_csv('/content/linkedin.csv', index=False)"
      ]
    },
    {
      "cell_type": "code",
      "execution_count": 47,
      "metadata": {
        "colab": {
          "base_uri": "https://localhost:8080/"
        },
        "id": "pXONO0oLAqx_",
        "outputId": "35037054-7756-4c47-ca1f-077359023884"
      },
      "outputs": [
        {
          "output_type": "stream",
          "name": "stdout",
          "text": [
            "Collecting pyspark\n",
            "  Downloading pyspark-3.5.0.tar.gz (316.9 MB)\n",
            "\u001b[2K     \u001b[90m━━━━━━━━━━━━━━━━━━━━━━━━━━━━━━━━━━━━━━━━\u001b[0m \u001b[32m316.9/316.9 MB\u001b[0m \u001b[31m4.2 MB/s\u001b[0m eta \u001b[36m0:00:00\u001b[0m\n",
            "\u001b[?25h  Preparing metadata (setup.py) ... \u001b[?25l\u001b[?25hdone\n",
            "Requirement already satisfied: py4j==0.10.9.7 in /usr/local/lib/python3.10/dist-packages (from pyspark) (0.10.9.7)\n",
            "Building wheels for collected packages: pyspark\n",
            "  Building wheel for pyspark (setup.py) ... \u001b[?25l\u001b[?25hdone\n",
            "  Created wheel for pyspark: filename=pyspark-3.5.0-py2.py3-none-any.whl size=317425344 sha256=2b54a9fbac178edc72ced87999c092958cb291479aa2a780151ec55f68f9bbd3\n",
            "  Stored in directory: /root/.cache/pip/wheels/41/4e/10/c2cf2467f71c678cfc8a6b9ac9241e5e44a01940da8fbb17fc\n",
            "Successfully built pyspark\n",
            "Installing collected packages: pyspark\n",
            "Successfully installed pyspark-3.5.0\n"
          ]
        }
      ],
      "source": [
        "!pip install pyspark\n",
        "\n",
        "from pyspark.sql import SparkSession"
      ]
    },
    {
      "cell_type": "code",
      "execution_count": 48,
      "metadata": {
        "id": "LONghE9mAqzu"
      },
      "outputs": [],
      "source": [
        "spark = SparkSession.builder.appName(\"MySparkSession\").getOrCreate()"
      ]
    },
    {
      "cell_type": "code",
      "execution_count": 53,
      "metadata": {
        "id": "4SukdMTTAq2g"
      },
      "outputs": [],
      "source": [
        "df = spark.read.csv(\"/content/linkedin.csv\", header=True, inferSchema=True)"
      ]
    },
    {
      "cell_type": "code",
      "execution_count": 54,
      "metadata": {
        "id": "XGJhPOiqAq47"
      },
      "outputs": [],
      "source": [
        "df.createOrReplaceTempView(\"linkedin_table\")"
      ]
    },
    {
      "cell_type": "code",
      "source": [
        "list[df.columns]"
      ],
      "metadata": {
        "colab": {
          "base_uri": "https://localhost:8080/"
        },
        "id": "0Ov31fKfwJlP",
        "outputId": "ce32f86a-37b6-426d-8a61-cec26d9bc642"
      },
      "execution_count": 58,
      "outputs": [
        {
          "output_type": "execute_result",
          "data": {
            "text/plain": [
              "list[['location', 'company_name', 'work_type', 'full_time_remote', 'no_of_employ', 'no_of_application', 'posted_day_ago', 'alumni', 'Hiring_person', 'linkedin_followers', 'hiring_person_link', 'job_details', 'job_title', 'experience_level']]"
            ]
          },
          "metadata": {},
          "execution_count": 58
        }
      ]
    },
    {
      "cell_type": "code",
      "execution_count": 59,
      "metadata": {
        "colab": {
          "base_uri": "https://localhost:8080/"
        },
        "id": "JS5Y_U5Pr-4G",
        "outputId": "5c487c78-e62a-477d-a014-480e3323248a"
      },
      "outputs": [
        {
          "output_type": "stream",
          "name": "stdout",
          "text": [
            "+--------------------+---------+\n",
            "|           job_title|job_count|\n",
            "+--------------------+---------+\n",
            "|Lead Java Softwar...|      166|\n",
            "|Senior Automation...|      146|\n",
            "|       Data Engineer|      128|\n",
            "| Lead Java Developer|      120|\n",
            "|    Business Analyst|      114|\n",
            "|Lead Automation T...|      104|\n",
            "|Senior Java Softw...|      100|\n",
            "|    Python Developer|       98|\n",
            "|        Data Analyst|       69|\n",
            "| Lead .NET Developer|       67|\n",
            "+--------------------+---------+\n",
            "\n"
          ]
        }
      ],
      "source": [
        "spark.sql(\"\"\"\n",
        "SELECT job_title, COUNT(*) AS job_count\n",
        "FROM linkedin_table\n",
        "GROUP BY job_title\n",
        "ORDER BY job_count DESC\n",
        "LIMIT 10;\n",
        "\"\"\").show()\n",
        "\n"
      ]
    },
    {
      "cell_type": "code",
      "execution_count": 56,
      "metadata": {
        "id": "lv4Nfn1nr-6W",
        "colab": {
          "base_uri": "https://localhost:8080/"
        },
        "outputId": "c009fb66-aa70-45c4-8b60-19b2720af7e8"
      },
      "outputs": [
        {
          "output_type": "stream",
          "name": "stdout",
          "text": [
            "+--------------------+--------------+\n",
            "|            location|location_count|\n",
            "+--------------------+--------------+\n",
            "|Bengaluru, Karnat...|          1324|\n",
            "|Hyderabad, Telang...|           671|\n",
            "|Chennai, Tamil Na...|           477|\n",
            "|Gurugram, Haryana...|           477|\n",
            "|Mumbai, Maharasht...|           457|\n",
            "|Pune, Maharashtra...|           406|\n",
            "|Noida, Uttar Prad...|           297|\n",
            "| Delhi, Delhi, India|           277|\n",
            "|New Delhi, Delhi,...|           228|\n",
            "|Kanpur, Uttar Pra...|           186|\n",
            "+--------------------+--------------+\n",
            "\n"
          ]
        }
      ],
      "source": [
        "spark.sql(\"\"\"\n",
        "SELECT location, COUNT(*) AS location_count\n",
        "FROM linkedin_table\n",
        "GROUP BY location\n",
        "ORDER BY location_count DESC\n",
        "LIMIT 10;\"\"\").show()"
      ]
    },
    {
      "cell_type": "code",
      "execution_count": 60,
      "metadata": {
        "id": "UD94vwePr-8p",
        "colab": {
          "base_uri": "https://localhost:8080/"
        },
        "outputId": "82ef3976-d89b-4b73-9529-cb0a84ce9025"
      },
      "outputs": [
        {
          "output_type": "stream",
          "name": "stdout",
          "text": [
            "+--------------------+----------------+-----+\n",
            "|        company_name|experience_level|count|\n",
            "+--------------------+----------------+-----+\n",
            "|         LTIMindtree|       Associate|   21|\n",
            "|Param Consulting ...|       Mid-Level|    1|\n",
            "|         MenteeChain|       Associate|    1|\n",
            "|    Sourcing X-Press|    Senior-Level|    1|\n",
            "|  WebPlanex Infotech|     Entry-Level|    1|\n",
            "|Lakhera Global Se...|       Mid-Level|    1|\n",
            "|         ALTEN India|       Mid-Level|    1|\n",
            "|             CITRIOT|     Entry-Level|    1|\n",
            "|Deutsche Telekom ...|     Entry-Level|    1|\n",
            "|       Infometry Inc|    Senior-Level|    1|\n",
            "|K.R. Mangalam Uni...|      Specialist|    1|\n",
            "|             Fractal|       Associate|    3|\n",
            "|              Esmito|       Associate|    1|\n",
            "|     United & United|     Entry-Level|    1|\n",
            "|JetSynthesys Pvt....|       Associate|    2|\n",
            "|         Efkon India|Business Analyst|    3|\n",
            "|    Supro Consulting|       Associate|    1|\n",
            "|           NielsenIQ|       Associate|    1|\n",
            "|            Pixelfox|     Entry-Level|    1|\n",
            "|     IDFC FIRST Bank|       Mid-Level|    2|\n",
            "+--------------------+----------------+-----+\n",
            "only showing top 20 rows\n",
            "\n"
          ]
        }
      ],
      "source": [
        "spark.sql(\"\"\"\n",
        "SELECT company_name, experience_level, COUNT(*) AS count\n",
        "FROM linkedin_table\n",
        "GROUP BY company_name, experience_level;\"\"\").show()"
      ]
    },
    {
      "cell_type": "code",
      "execution_count": 62,
      "metadata": {
        "id": "kd-tGogHr--k",
        "colab": {
          "base_uri": "https://localhost:8080/"
        },
        "outputId": "7fa923c8-d471-4fc5-9841-dd9a337ccc25"
      },
      "outputs": [
        {
          "output_type": "stream",
          "name": "stdout",
          "text": [
            "+--------------------+---------+-----+\n",
            "|           job_title|work_type|count|\n",
            "+--------------------+---------+-----+\n",
            "|Cloud Support Eng...|   Remote|    5|\n",
            "|    GCP Data Enginer|   Hybrid|    3|\n",
            "|       OIM Developer|   Remote|    1|\n",
            "|              Spring|   Remote|    1|\n",
            "|Lead Computer Vis...|  On-site|    1|\n",
            "|Salesforce Developer|   Hybrid|   18|\n",
            "| Azure Data Engineer|   Hybrid|   15|\n",
            "|Senior Game Devel...|  On-site|    1|\n",
            "|        BASIS SOLMAN|  On-site|    2|\n",
            "|   Bigdata Developer|   Remote|    4|\n",
            "|Business Developm...|  On-site|    1|\n",
            "|Cloud Software En...|   Remote|    7|\n",
            "|Data Analytics As...|  On-site|    1|\n",
            "|Digital Marketing...|   Hybrid|    3|\n",
            "|Algorithm Develop...|  On-site|    1|\n",
            "|Azure Devops Engi...|   Hybrid|    1|\n",
            "|   Financial Analyst|  On-site|    4|\n",
            "|Broadcast IT Engi...|  On-site|    1|\n",
            "|   Shopify Developer|   Hybrid|    4|\n",
            "|Open Position for...|   Hybrid|    3|\n",
            "+--------------------+---------+-----+\n",
            "only showing top 20 rows\n",
            "\n"
          ]
        }
      ],
      "source": [
        "spark.sql(\"\"\"\n",
        "SELECT job_title, work_type, COUNT(*) AS count\n",
        "FROM linkedin_table\n",
        "GROUP BY job_title, work_type;\"\"\").show()"
      ]
    },
    {
      "cell_type": "code",
      "execution_count": 63,
      "metadata": {
        "id": "O-FdNIHf7noj",
        "colab": {
          "base_uri": "https://localhost:8080/"
        },
        "outputId": "3e9fa734-5bd0-4886-e3d9-136228bf66d1"
      },
      "outputs": [
        {
          "output_type": "stream",
          "name": "stdout",
          "text": [
            "+--------------------+-----+\n",
            "|    full_time_remote|count|\n",
            "+--------------------+-----+\n",
            "|Full-time  Entry ...|  150|\n",
            "| part-time associate|   22|\n",
            "|           Part-time|   25|\n",
            "| Contract  Associate|   14|\n",
            "|Full-time  Executive|   49|\n",
            "|           Associate|    2|\n",
            "|Contract  Entry l...|   12|\n",
            "|full-time internship|   18|\n",
            "|Internship  Entry...|    2|\n",
            "|            Contract|   67|\n",
            "|Full-time  Mid-Se...| 3564|\n",
            "|Full-time  Associate|  545|\n",
            "|    full-time junior|   15|\n",
            "|Internship  Inter...|    5|\n",
            "|Contract  Mid-Sen...|   63|\n",
            "| Full-time  Director|   30|\n",
            "|           Full-time| 2421|\n",
            "|part-time internship|   21|\n",
            "|          Internship|   67|\n",
            "|           Temporary|    2|\n",
            "+--------------------+-----+\n",
            "only showing top 20 rows\n",
            "\n"
          ]
        }
      ],
      "source": [
        "spark.sql(\"\"\"SELECT full_time_remote, COUNT(*) AS count\n",
        "FROM linkedin_table\n",
        "GROUP BY full_time_remote;\"\"\").show()"
      ]
    },
    {
      "cell_type": "code",
      "execution_count": 65,
      "metadata": {
        "id": "lodfHa7L7nsh",
        "colab": {
          "base_uri": "https://localhost:8080/"
        },
        "outputId": "41aa6c42-50a3-4b4b-e76b-f0f899327a51"
      },
      "outputs": [
        {
          "output_type": "stream",
          "name": "stdout",
          "text": [
            "+--------------------+--------------------+\n",
            "|           job_title|            location|\n",
            "+--------------------+--------------------+\n",
            "|Corporate Sales /...|West Delhi, Delhi...|\n",
            "|Python Developer ...|West Delhi, Delhi...|\n",
            "|Business Developm...|West Delhi, Delhi...|\n",
            "|    Sales Specialist|West Delhi, Delhi...|\n",
            "|    Python Developer|Vishakhapatnam, A...|\n",
            "|Sap Finance Contr...|Vishakhapatnam, A...|\n",
            "|    Python Developer|Vishakhapatnam, A...|\n",
            "|SAP Production Pl...|Vishakhapatnam, A...|\n",
            "|    Python Developer|Vishakhapatnam, A...|\n",
            "|    Python Developer|Vishakhapatnam, A...|\n",
            "+--------------------+--------------------+\n",
            "\n"
          ]
        }
      ],
      "source": [
        "spark.sql(\"\"\"\n",
        "select job_title,location\n",
        "from linkedin_table\n",
        "order by location desc limit 10;\"\"\").show()"
      ]
    }
  ],
  "metadata": {
    "colab": {
      "provenance": []
    },
    "kernelspec": {
      "display_name": "Python 3",
      "name": "python3"
    },
    "language_info": {
      "name": "python"
    }
  },
  "nbformat": 4,
  "nbformat_minor": 0
}